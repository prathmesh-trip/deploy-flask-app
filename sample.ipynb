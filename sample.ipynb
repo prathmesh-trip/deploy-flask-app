{
 "metadata": {
  "language_info": {
   "codemirror_mode": {
    "name": "ipython",
    "version": 3
   },
   "file_extension": ".py",
   "mimetype": "text/x-python",
   "name": "python",
   "nbconvert_exporter": "python",
   "pygments_lexer": "ipython3",
   "version": "3.8.3-final"
  },
  "orig_nbformat": 2,
  "kernelspec": {
   "name": "python3",
   "display_name": "Python 3",
   "language": "python"
  }
 },
 "nbformat": 4,
 "nbformat_minor": 2,
 "cells": [
  {
   "cell_type": "code",
   "execution_count": 3,
   "metadata": {},
   "outputs": [],
   "source": [
    "import numpy as np\n",
    "import matplotlib.pyplot as pyplot\n",
    "import pandas as pd\n",
    "import pickle\n",
    "\n",
    "loan_data=pd.read_csv('loan_train.csv')\n",
    "train_data = loan_data.drop('Unnamed: 0', axis = 1)"
   ]
  },
  {
   "cell_type": "code",
   "execution_count": 4,
   "metadata": {},
   "outputs": [
    {
     "output_type": "execute_result",
     "data": {
      "text/plain": [
       "    Loan_ID  Gender Married Dependents     Education Self_Employed  \\\n",
       "0  LP002305  Female      No          0      Graduate            No   \n",
       "1  LP001715    Male     Yes         3+  Not Graduate           Yes   \n",
       "2  LP002086  Female     Yes          0      Graduate            No   \n",
       "3  LP001136    Male     Yes          0  Not Graduate           Yes   \n",
       "4  LP002529    Male     Yes          2      Graduate            No   \n",
       "\n",
       "   ApplicantIncome  CoapplicantIncome  LoanAmount  Loan_Amount_Term  \\\n",
       "0             4547                0.0       115.0             360.0   \n",
       "1             5703                0.0       130.0             360.0   \n",
       "2             4333             2451.0       110.0             360.0   \n",
       "3             4695                0.0        96.0               NaN   \n",
       "4             6700             1750.0       230.0             300.0   \n",
       "\n",
       "   Credit_History Property_Area  Loan_Status  \n",
       "0             1.0     Semiurban            1  \n",
       "1             1.0         Rural            1  \n",
       "2             1.0         Urban            0  \n",
       "3             1.0         Urban            1  \n",
       "4             1.0     Semiurban            1  "
      ],
      "text/html": "<div>\n<style scoped>\n    .dataframe tbody tr th:only-of-type {\n        vertical-align: middle;\n    }\n\n    .dataframe tbody tr th {\n        vertical-align: top;\n    }\n\n    .dataframe thead th {\n        text-align: right;\n    }\n</style>\n<table border=\"1\" class=\"dataframe\">\n  <thead>\n    <tr style=\"text-align: right;\">\n      <th></th>\n      <th>Loan_ID</th>\n      <th>Gender</th>\n      <th>Married</th>\n      <th>Dependents</th>\n      <th>Education</th>\n      <th>Self_Employed</th>\n      <th>ApplicantIncome</th>\n      <th>CoapplicantIncome</th>\n      <th>LoanAmount</th>\n      <th>Loan_Amount_Term</th>\n      <th>Credit_History</th>\n      <th>Property_Area</th>\n      <th>Loan_Status</th>\n    </tr>\n  </thead>\n  <tbody>\n    <tr>\n      <th>0</th>\n      <td>LP002305</td>\n      <td>Female</td>\n      <td>No</td>\n      <td>0</td>\n      <td>Graduate</td>\n      <td>No</td>\n      <td>4547</td>\n      <td>0.0</td>\n      <td>115.0</td>\n      <td>360.0</td>\n      <td>1.0</td>\n      <td>Semiurban</td>\n      <td>1</td>\n    </tr>\n    <tr>\n      <th>1</th>\n      <td>LP001715</td>\n      <td>Male</td>\n      <td>Yes</td>\n      <td>3+</td>\n      <td>Not Graduate</td>\n      <td>Yes</td>\n      <td>5703</td>\n      <td>0.0</td>\n      <td>130.0</td>\n      <td>360.0</td>\n      <td>1.0</td>\n      <td>Rural</td>\n      <td>1</td>\n    </tr>\n    <tr>\n      <th>2</th>\n      <td>LP002086</td>\n      <td>Female</td>\n      <td>Yes</td>\n      <td>0</td>\n      <td>Graduate</td>\n      <td>No</td>\n      <td>4333</td>\n      <td>2451.0</td>\n      <td>110.0</td>\n      <td>360.0</td>\n      <td>1.0</td>\n      <td>Urban</td>\n      <td>0</td>\n    </tr>\n    <tr>\n      <th>3</th>\n      <td>LP001136</td>\n      <td>Male</td>\n      <td>Yes</td>\n      <td>0</td>\n      <td>Not Graduate</td>\n      <td>Yes</td>\n      <td>4695</td>\n      <td>0.0</td>\n      <td>96.0</td>\n      <td>NaN</td>\n      <td>1.0</td>\n      <td>Urban</td>\n      <td>1</td>\n    </tr>\n    <tr>\n      <th>4</th>\n      <td>LP002529</td>\n      <td>Male</td>\n      <td>Yes</td>\n      <td>2</td>\n      <td>Graduate</td>\n      <td>No</td>\n      <td>6700</td>\n      <td>1750.0</td>\n      <td>230.0</td>\n      <td>300.0</td>\n      <td>1.0</td>\n      <td>Semiurban</td>\n      <td>1</td>\n    </tr>\n  </tbody>\n</table>\n</div>"
     },
     "metadata": {},
     "execution_count": 4
    }
   ],
   "source": [
    "train_data.head()"
   ]
  },
  {
   "cell_type": "code",
   "execution_count": 7,
   "metadata": {},
   "outputs": [
    {
     "output_type": "execute_result",
     "data": {
      "text/plain": [
       "LogisticRegression()"
      ]
     },
     "metadata": {},
     "execution_count": 7
    }
   ],
   "source": [
    "##Replace missing values -- Continuous Variable\n",
    "\n",
    "train_data.Credit_History.fillna(train_data['Credit_History'].median(), inplace = True)\n",
    "train_data.LoanAmount.fillna(train_data['LoanAmount'].median(), inplace = True)\n",
    "train_data.Loan_Amount_Term.fillna(train_data['Loan_Amount_Term'].median(), inplace = True)\n",
    "\n",
    "##Replace missing values -- Categorical Variable\n",
    "\n",
    "train_data.Self_Employed.fillna(train_data['Self_Employed'].value_counts().index[0], inplace = True)\n",
    "train_data.Gender.fillna(train_data['Gender'].value_counts().index[0], inplace = True)\n",
    "train_data.Dependents.fillna(train_data['Dependents'].value_counts().index[0], inplace = True)\n",
    "train_data.Married.fillna(train_data['Married'].value_counts().index[0], inplace = True)\n",
    "\n",
    "##Splitting the target and feature variables\n",
    "X_train = train_data.drop(['Loan_Status','Loan_ID'], axis = 1)\n",
    "y_train = train_data['Loan_Status']\n",
    "\n",
    "\n",
    "##One hot encoding\n",
    "X_train = pd.get_dummies(X_train, columns=['Gender', 'Married', 'Dependents', 'Education', 'Self_Employed','Property_Area'])\n",
    "\n",
    "##Logistic Regression Model\n",
    "from sklearn.linear_model import LogisticRegression\n",
    "model_final = LogisticRegression()\n",
    "model_final.fit(X_train,y_train)"
   ]
  },
  {
   "cell_type": "code",
   "execution_count": 8,
   "metadata": {},
   "outputs": [],
   "source": [
    "pickle.dump(model_final, open('model.pkl','wb'))"
   ]
  },
  {
   "cell_type": "code",
   "execution_count": 9,
   "metadata": {},
   "outputs": [
    {
     "output_type": "execute_result",
     "data": {
      "text/plain": [
       "   ApplicantIncome  CoapplicantIncome  LoanAmount  Loan_Amount_Term  \\\n",
       "0             4547                0.0       115.0             360.0   \n",
       "1             5703                0.0       130.0             360.0   \n",
       "2             4333             2451.0       110.0             360.0   \n",
       "3             4695                0.0        96.0             360.0   \n",
       "4             6700             1750.0       230.0             300.0   \n",
       "\n",
       "   Credit_History  Gender_Female  Gender_Male  Married_No  Married_Yes  \\\n",
       "0             1.0              1            0           1            0   \n",
       "1             1.0              0            1           0            1   \n",
       "2             1.0              1            0           0            1   \n",
       "3             1.0              0            1           0            1   \n",
       "4             1.0              0            1           0            1   \n",
       "\n",
       "   Dependents_0  Dependents_1  Dependents_2  Dependents_3+  \\\n",
       "0             1             0             0              0   \n",
       "1             0             0             0              1   \n",
       "2             1             0             0              0   \n",
       "3             1             0             0              0   \n",
       "4             0             0             1              0   \n",
       "\n",
       "   Education_Graduate  Education_Not Graduate  Self_Employed_No  \\\n",
       "0                   1                       0                 1   \n",
       "1                   0                       1                 0   \n",
       "2                   1                       0                 1   \n",
       "3                   0                       1                 0   \n",
       "4                   1                       0                 1   \n",
       "\n",
       "   Self_Employed_Yes  Property_Area_Rural  Property_Area_Semiurban  \\\n",
       "0                  0                    0                        1   \n",
       "1                  1                    1                        0   \n",
       "2                  0                    0                        0   \n",
       "3                  1                    0                        0   \n",
       "4                  0                    0                        1   \n",
       "\n",
       "   Property_Area_Urban  \n",
       "0                    0  \n",
       "1                    0  \n",
       "2                    1  \n",
       "3                    1  \n",
       "4                    0  "
      ],
      "text/html": "<div>\n<style scoped>\n    .dataframe tbody tr th:only-of-type {\n        vertical-align: middle;\n    }\n\n    .dataframe tbody tr th {\n        vertical-align: top;\n    }\n\n    .dataframe thead th {\n        text-align: right;\n    }\n</style>\n<table border=\"1\" class=\"dataframe\">\n  <thead>\n    <tr style=\"text-align: right;\">\n      <th></th>\n      <th>ApplicantIncome</th>\n      <th>CoapplicantIncome</th>\n      <th>LoanAmount</th>\n      <th>Loan_Amount_Term</th>\n      <th>Credit_History</th>\n      <th>Gender_Female</th>\n      <th>Gender_Male</th>\n      <th>Married_No</th>\n      <th>Married_Yes</th>\n      <th>Dependents_0</th>\n      <th>Dependents_1</th>\n      <th>Dependents_2</th>\n      <th>Dependents_3+</th>\n      <th>Education_Graduate</th>\n      <th>Education_Not Graduate</th>\n      <th>Self_Employed_No</th>\n      <th>Self_Employed_Yes</th>\n      <th>Property_Area_Rural</th>\n      <th>Property_Area_Semiurban</th>\n      <th>Property_Area_Urban</th>\n    </tr>\n  </thead>\n  <tbody>\n    <tr>\n      <th>0</th>\n      <td>4547</td>\n      <td>0.0</td>\n      <td>115.0</td>\n      <td>360.0</td>\n      <td>1.0</td>\n      <td>1</td>\n      <td>0</td>\n      <td>1</td>\n      <td>0</td>\n      <td>1</td>\n      <td>0</td>\n      <td>0</td>\n      <td>0</td>\n      <td>1</td>\n      <td>0</td>\n      <td>1</td>\n      <td>0</td>\n      <td>0</td>\n      <td>1</td>\n      <td>0</td>\n    </tr>\n    <tr>\n      <th>1</th>\n      <td>5703</td>\n      <td>0.0</td>\n      <td>130.0</td>\n      <td>360.0</td>\n      <td>1.0</td>\n      <td>0</td>\n      <td>1</td>\n      <td>0</td>\n      <td>1</td>\n      <td>0</td>\n      <td>0</td>\n      <td>0</td>\n      <td>1</td>\n      <td>0</td>\n      <td>1</td>\n      <td>0</td>\n      <td>1</td>\n      <td>1</td>\n      <td>0</td>\n      <td>0</td>\n    </tr>\n    <tr>\n      <th>2</th>\n      <td>4333</td>\n      <td>2451.0</td>\n      <td>110.0</td>\n      <td>360.0</td>\n      <td>1.0</td>\n      <td>1</td>\n      <td>0</td>\n      <td>0</td>\n      <td>1</td>\n      <td>1</td>\n      <td>0</td>\n      <td>0</td>\n      <td>0</td>\n      <td>1</td>\n      <td>0</td>\n      <td>1</td>\n      <td>0</td>\n      <td>0</td>\n      <td>0</td>\n      <td>1</td>\n    </tr>\n    <tr>\n      <th>3</th>\n      <td>4695</td>\n      <td>0.0</td>\n      <td>96.0</td>\n      <td>360.0</td>\n      <td>1.0</td>\n      <td>0</td>\n      <td>1</td>\n      <td>0</td>\n      <td>1</td>\n      <td>1</td>\n      <td>0</td>\n      <td>0</td>\n      <td>0</td>\n      <td>0</td>\n      <td>1</td>\n      <td>0</td>\n      <td>1</td>\n      <td>0</td>\n      <td>0</td>\n      <td>1</td>\n    </tr>\n    <tr>\n      <th>4</th>\n      <td>6700</td>\n      <td>1750.0</td>\n      <td>230.0</td>\n      <td>300.0</td>\n      <td>1.0</td>\n      <td>0</td>\n      <td>1</td>\n      <td>0</td>\n      <td>1</td>\n      <td>0</td>\n      <td>0</td>\n      <td>1</td>\n      <td>0</td>\n      <td>1</td>\n      <td>0</td>\n      <td>1</td>\n      <td>0</td>\n      <td>0</td>\n      <td>1</td>\n      <td>0</td>\n    </tr>\n  </tbody>\n</table>\n</div>"
     },
     "metadata": {},
     "execution_count": 9
    }
   ],
   "source": [
    "X_train.head()"
   ]
  },
  {
   "cell_type": "code",
   "execution_count": 13,
   "metadata": {},
   "outputs": [
    {
     "output_type": "stream",
     "name": "stdout",
     "text": [
      "[4547, 0, 115, 360, 1, 0, 1, 1, 0, 1, 0, 0, 0, 1, 0, 1, 0, 0, 1, 0]\n[1]\n"
     ]
    }
   ],
   "source": [
    "## calling the model to predict \n",
    "data =[]\n",
    "\n",
    "item = [4547, 0, 115, 360, 1,'Male','No','0','Graduate','No','Semiurban']\n",
    "\n",
    "##ApplicantIncome\n",
    "data.append(item[0])\n",
    "##CoApplicantIncome\n",
    "data.append(item[1])\n",
    "##LoanAmount\n",
    "data.append(item[2])\n",
    "##LoanAmountTerm\n",
    "data.append(item[3])\n",
    "##Credit_History\n",
    "data.append(item[4])\n",
    "\n",
    "##Gender\n",
    "if item[5] == 'Male':\n",
    "    data.append(0)\n",
    "    data.append(1)\n",
    "else:\n",
    "    data.append(1)\n",
    "    data.append(0)\n",
    "##Married\n",
    "if item[6] == 'No':\n",
    "    data.append(1)\n",
    "    data.append(0)\n",
    "else:\n",
    "    data.append(0)\n",
    "    data.append(1)\n",
    "##Dependents\n",
    "if item[7] == '0':\n",
    "    data.append(1)\n",
    "    data.append(0)\n",
    "    data.append(0)\n",
    "    data.append(0)\n",
    "elif item[7] == '1':\n",
    "    data.append(0)\n",
    "    data.append(1)\n",
    "    data.append(0)\n",
    "    data.append(0)\n",
    "elif item[7] == '2':\n",
    "    data.append(0)\n",
    "    data.append(0)\n",
    "    data.append(1)\n",
    "    data.append(0)\n",
    "else:\n",
    "    data.append(0)\n",
    "    data.append(0)\n",
    "    data.append(0)\n",
    "    data.append(1)\n",
    "##Graduation\n",
    "if item[8] == 'Graduate':\n",
    "    data.append(1)\n",
    "    data.append(0)\n",
    "else:\n",
    "    data.append(0)\n",
    "    data.append(1)\n",
    "\n",
    "##Self_Employed\n",
    "if item[9] == 'No':\n",
    "    data.append(1)\n",
    "    data.append(0)\n",
    "else:\n",
    "    data.append(0) \n",
    "    data.append(1)\n",
    "\n",
    "##Property\n",
    "if item[10] == 'Rural':\n",
    "    data.append(1)\n",
    "    data.append(0)\n",
    "    data.append(0)\n",
    "elif item[10] == 'Semiurban':\n",
    "    data.append(0)\n",
    "    data.append(1)\n",
    "    data.append(0)\n",
    "else :\n",
    "    data.append(0)\n",
    "    data.append(0)\n",
    "    data.append(1)\n",
    "\n",
    "print(data)\n",
    "\n",
    "# this is single sample\n",
    "print(model_final.predict([data]))\n"
   ]
  },
  {
   "cell_type": "code",
   "execution_count": 14,
   "metadata": {},
   "outputs": [
    {
     "output_type": "execute_result",
     "data": {
      "text/plain": [
       "numpy.ndarray"
      ]
     },
     "metadata": {},
     "execution_count": 14
    }
   ],
   "source": [
    "type(model_final.predict([data]))\n"
   ]
  },
  {
   "cell_type": "code",
   "execution_count": null,
   "metadata": {},
   "outputs": [],
   "source": []
  }
 ]
}